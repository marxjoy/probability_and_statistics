{
 "cells": [
  {
   "cell_type": "code",
   "execution_count": null,
   "metadata": {},
   "outputs": [],
   "source": [
    "In a highschool graduation exam 70% of examinees passed the English exam, \n",
    "76% passed the math exam, and \n",
    "66% passed both. \n",
    "If 40 examinees failed in both subjects, what is the total number of examinees?"
   ]
  },
  {
   "cell_type": "code",
   "execution_count": null,
   "metadata": {},
   "outputs": [],
   "source": [
    "e = {0.70}\n",
    "m = {0.76}\n",
    "e + m = {0.66}\n",
    "40 = 0.44\n",
    " x = 1\n"
   ]
  },
  {
   "cell_type": "code",
   "execution_count": 1,
   "metadata": {},
   "outputs": [
    {
     "data": {
      "text/plain": [
       "90.9090909090909"
      ]
     },
     "execution_count": 1,
     "metadata": {},
     "output_type": "execute_result"
    }
   ],
   "source": [
    "40/0.44"
   ]
  },
  {
   "cell_type": "code",
   "execution_count": 1,
   "metadata": {},
   "outputs": [],
   "source": [
    "from itertools import permutations"
   ]
  },
  {
   "cell_type": "code",
   "execution_count": 8,
   "metadata": {},
   "outputs": [
    {
     "data": {
      "text/plain": [
       "[('w', 'o', 'r', 'd'),\n",
       " ('w', 'o', 'd', 'r'),\n",
       " ('w', 'r', 'o', 'd'),\n",
       " ('w', 'r', 'd', 'o'),\n",
       " ('w', 'd', 'o', 'r'),\n",
       " ('w', 'd', 'r', 'o'),\n",
       " ('o', 'w', 'r', 'd'),\n",
       " ('o', 'w', 'd', 'r'),\n",
       " ('o', 'r', 'w', 'd'),\n",
       " ('o', 'r', 'd', 'w'),\n",
       " ('o', 'd', 'w', 'r'),\n",
       " ('o', 'd', 'r', 'w'),\n",
       " ('r', 'w', 'o', 'd'),\n",
       " ('r', 'w', 'd', 'o'),\n",
       " ('r', 'o', 'w', 'd'),\n",
       " ('r', 'o', 'd', 'w'),\n",
       " ('r', 'd', 'w', 'o'),\n",
       " ('r', 'd', 'o', 'w'),\n",
       " ('d', 'w', 'o', 'r'),\n",
       " ('d', 'w', 'r', 'o'),\n",
       " ('d', 'o', 'w', 'r'),\n",
       " ('d', 'o', 'r', 'w'),\n",
       " ('d', 'r', 'w', 'o'),\n",
       " ('d', 'r', 'o', 'w')]"
      ]
     },
     "execution_count": 8,
     "metadata": {},
     "output_type": "execute_result"
    }
   ],
   "source": [
    "list(i for i in permutations('word'))"
   ]
  },
  {
   "cell_type": "code",
   "execution_count": 2,
   "metadata": {},
   "outputs": [
    {
     "data": {
      "text/plain": [
       "36"
      ]
     },
     "execution_count": 2,
     "metadata": {},
     "output_type": "execute_result"
    }
   ],
   "source": [
    "3*2*1 * 1 * 1 * 6"
   ]
  },
  {
   "cell_type": "code",
   "execution_count": 3,
   "metadata": {},
   "outputs": [
    {
     "data": {
      "text/plain": [
       "162"
      ]
     },
     "execution_count": 3,
     "metadata": {},
     "output_type": "execute_result"
    }
   ],
   "source": [
    "3*2*1 * 1 * 1 * 3**3"
   ]
  },
  {
   "cell_type": "code",
   "execution_count": 4,
   "metadata": {},
   "outputs": [
    {
     "data": {
      "text/plain": [
       "3240"
      ]
     },
     "execution_count": 4,
     "metadata": {},
     "output_type": "execute_result"
    }
   ],
   "source": [
    "1*1*3**3*1*2*3*4*5"
   ]
  },
  {
   "cell_type": "code",
   "execution_count": 5,
   "metadata": {},
   "outputs": [
    {
     "data": {
      "text/plain": [
       "120"
      ]
     },
     "execution_count": 5,
     "metadata": {},
     "output_type": "execute_result"
    }
   ],
   "source": [
    "1*2*3*4*5"
   ]
  },
  {
   "cell_type": "code",
   "execution_count": 8,
   "metadata": {},
   "outputs": [
    {
     "data": {
      "text/plain": [
       "24"
      ]
     },
     "execution_count": 8,
     "metadata": {},
     "output_type": "execute_result"
    }
   ],
   "source": [
    "1*2*3*4"
   ]
  },
  {
   "cell_type": "code",
   "execution_count": 11,
   "metadata": {},
   "outputs": [
    {
     "data": {
      "text/plain": [
       "15.0"
      ]
     },
     "execution_count": 11,
     "metadata": {},
     "output_type": "execute_result"
    }
   ],
   "source": [
    "720 / (2*24)"
   ]
  },
  {
   "cell_type": "code",
   "execution_count": null,
   "metadata": {},
   "outputs": [],
   "source": [
    "2"
   ]
  }
 ],
 "metadata": {
  "kernelspec": {
   "display_name": "Python 3",
   "language": "python",
   "name": "python3"
  },
  "language_info": {
   "codemirror_mode": {
    "name": "ipython",
    "version": 3
   },
   "file_extension": ".py",
   "mimetype": "text/x-python",
   "name": "python",
   "nbconvert_exporter": "python",
   "pygments_lexer": "ipython3",
   "version": "3.7.3"
  }
 },
 "nbformat": 4,
 "nbformat_minor": 2
}
